{
  "nbformat": 4,
  "nbformat_minor": 0,
  "metadata": {
    "colab": {
      "private_outputs": true,
      "provenance": []
    },
    "kernelspec": {
      "name": "python3",
      "display_name": "Python 3"
    },
    "language_info": {
      "name": "python"
    }
  },
  "cells": [
    {
      "cell_type": "markdown",
      "source": [
        "Chatbot Using NLTK"
      ],
      "metadata": {
        "id": "NaAs5N8jF6sL"
      }
    },
    {
      "cell_type": "code",
      "source": [
        "import spacy\n",
        "from datetime import datetime\n",
        "\n",
        "nlp = spacy.load(\"en_core_web_sm\")\n",
        "\n",
        "def chatbot_response(user_input):\n",
        "    doc = nlp(user_input.lower())\n",
        "\n",
        "    if \"help\" in user_input:\n",
        "        return (\n",
        "            \"I can answer the following questions:\\n\"\n",
        "            \"- What's your name?\\n\"\n",
        "            \"- What is the time?\\n\"\n",
        "            \"- How are you?\\n\"\n",
        "            \"- Can you tell me about the weather?\\n\"\n",
        "            \"- Who or what is [entity name]?\\n\"\n",
        "            \"- Tell me a joke.\\n\"\n",
        "            \"Type 'bye' to exit the chat.\"\n",
        "        )\n",
        "    elif \"your name\" in user_input:\n",
        "        return \"I am Chatbot, your assistant!\"\n",
        "    elif \"what is\" in user_input and \"time\" in user_input:\n",
        "        return f\"The current time is {datetime.now().strftime('%H:%M:%S')}.\"\n",
        "    elif \"how are you\" in user_input:\n",
        "        return \"I'm just a bot, but I'm working fine. How about you?\"\n",
        "    elif \"weather\" in user_input:\n",
        "        return \"I can't provide live weather updates, but you can check a weather app!\"\n",
        "    elif \"joke\" in user_input:\n",
        "        return \"Why did the scarecrow win an award? Because he was outstanding in his field!\"\n",
        "    elif \"who is\" in user_input or \"what is\" in user_input:\n",
        "        # Use spaCy's entity recognition to identify entities\n",
        "        entities = [ent.text for ent in doc.ents]\n",
        "        if entities:\n",
        "            return f\"Here's what I know about {entities[0]}: Sorry, I don't have detailed information yet, but I'm learning!\"\n",
        "        else:\n",
        "            return \"I'm not sure what you're referring to. Can you provide more details?\"\n",
        "    elif \"bye\" in user_input:\n",
        "        return \"Goodbye! Have a great day!\"\n",
        "    else:\n",
        "        return \"I'm sorry, I don't have an answer to that question. Type 'help' to see what I can do.\"\n",
        "\n",
        "print(\"Chatbot: Hi! Ask me a question or type 'help' to see what I can do. Type 'bye' to end the chat.\")\n",
        "\n",
        "while True:\n",
        "    user_input = input(\"You: \")\n",
        "    if user_input.lower() == \"bye\":\n",
        "        print(\"Chatbot: Goodbye!\")\n",
        "        break\n",
        "    response = chatbot_response(user_input)\n",
        "    print(f\"Chatbot: {response}\")\n"
      ],
      "metadata": {
        "id": "y2aVJgAGGDv1"
      },
      "execution_count": null,
      "outputs": []
    }
  ]
}